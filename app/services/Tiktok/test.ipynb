{
 "cells": [
  {
   "cell_type": "code",
   "execution_count": 3,
   "metadata": {},
   "outputs": [],
   "source": [
    "import time\n",
    "import undetected_chromedriver as uc\n",
    "from selenium.webdriver.common.by import By\n",
    "\n",
    "# Đường dẫn tới thư mục profile của Chrome\n",
    "profile_path = r\"C:\\Users\\admin\\AppData\\Local\\Google\\Chrome\\User Data\\Profile 1\"  # Thay đổi đường dẫn tới thư mục profile của bạn\n",
    "\n",
    "# Khởi tạo Chrome với profile đã lưu\n",
    "chrome_options = uc.ChromeOptions()\n",
    "chrome_options.add_argument(f\"--user-data-dir={profile_path}\")\n",
    "chrome_options.add_argument(\"--profile-directory=Profile 1\")  # Thay đổi tên profile nếu cần\n",
    "chrome_options.add_argument(\"--disable-notifications\")\n",
    "chrome_options.add_argument(\"--user-agent=Mozilla/5.0 (Windows NT 10.0; Win64; x64) AppleWebKit/537.36 (KHTML, like Gecko) Chrome/91.0.4472.124 Safari/537.36\")\n",
    "\n",
    "browser = uc.Chrome(options=chrome_options)\n",
    "browser.get('https://www.tiktok.com')\n",
    "\n",
    "time.sleep(5)"
   ]
  }
 ],
 "metadata": {
  "kernelspec": {
   "display_name": "Python 3",
   "language": "python",
   "name": "python3"
  },
  "language_info": {
   "codemirror_mode": {
    "name": "ipython",
    "version": 3
   },
   "file_extension": ".py",
   "mimetype": "text/x-python",
   "name": "python",
   "nbconvert_exporter": "python",
   "pygments_lexer": "ipython3",
   "version": "3.10.11"
  }
 },
 "nbformat": 4,
 "nbformat_minor": 2
}
