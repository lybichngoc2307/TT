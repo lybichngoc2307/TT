{
 "cells": [
  {
   "cell_type": "code",
   "execution_count": 1,
   "metadata": {},
   "outputs": [],
   "source": [
    "from selenium.webdriver.chrome.options import Options\n",
    "import time\n",
    "import undetected_chromedriver as uc\n",
    "import undetected_chromedriver as uc\n",
    "\n",
    "#undetected_chromedriver\n",
    "chrome_options = uc.ChromeOptions()\n",
    "chrome_options.add_argument(\"--disable-notifications\")\n",
    "\n",
    "\n",
    "# Thay đổi User-Agent \n",
    "chrome_options.add_argument(\"--user-agent=Mozilla/5.0 (Windows NT 10.0; Win64; x64) AppleWebKit/537.36 (KHTML, like Gecko) Chrome/91.0.4472.124 Safari/537.36\")\n",
    "\n",
    "username = \"user6762240292153\"\n",
    "password = \"@K4ay%7H022X\"\n",
    "\n",
    "browser = uc.Chrome(options=chrome_options)\n",
    "browser.get('https://www.tiktok.com/login/phone-or-email/email')\n",
    "\n",
    "time.sleep(5)"
   ]
  },
  {
   "cell_type": "code",
   "execution_count": 2,
   "metadata": {},
   "outputs": [],
   "source": [
    "\n",
    "#browser = webdriver.Chrome(service=Service(ChromeDriverManager().install()), options=chrome_options)\n",
    "\n",
    "# # Đoạn mã JavaScript để tắt khả năng phát hiện tự động hóa\n",
    "# browser.execute_cdp_cmd('Page.addScriptToEvaluateOnNewDocument', {\n",
    "#     'source': '''\n",
    "#         Object.defineProperty(navigator, 'webdriver', {\n",
    "#             get: () => undefined\n",
    "#         })\n",
    "#     '''\n",
    "# })\n",
    "#đăng nhập TikTok\n",
    "#browser.get('https://www.tiktok.com/login')\n",
    "\n"
   ]
  },
  {
   "cell_type": "code",
   "execution_count": 3,
   "metadata": {},
   "outputs": [],
   "source": [
    "\n",
    "# login_option = browser.find_element(By.XPATH, '//*[@id=\"loginContainer\"]/div/div/div/div[3]/div[2]/div[2]/div/div')\n",
    "# login_option.click()\n",
    "\n",
    "# login_option2 = browser.find_element(By.XPATH, '//*[@id=\"loginContainer\"]/div[1]/form/div[1]/a')\n",
    "# login_option2.click()\n",
    "\n",
    "# time.sleep(3)\n"
   ]
  },
  {
   "cell_type": "code",
   "execution_count": 2,
   "metadata": {},
   "outputs": [],
   "source": [
    "from selenium.webdriver.common.by import By\n",
    "from PIL import Image\n",
    "import requests\n",
    "import base64\n",
    "import io\n",
    "\n",
    "# user-pass\n",
    "username_field = browser.find_element(By.NAME, \"username\")\n",
    "username_field.send_keys(username)\n",
    "\n",
    "password_field = browser.find_element(By.CSS_SELECTOR, 'input[placeholder=\"Password\"]')\n",
    "password_field.send_keys(password)\n",
    "\n",
    "#login\n",
    "login_button = browser.find_element(By.XPATH, '//*[@id=\"loginContainer\"]/div[1]/form/button')\n",
    "login_button.click()\n",
    "\n",
    "time.sleep(10)"
   ]
  },
  {
   "cell_type": "markdown",
   "metadata": {},
   "source": [
    "BYPASS CAPTCHA"
   ]
  },
  {
   "cell_type": "code",
   "execution_count": 28,
   "metadata": {},
   "outputs": [],
   "source": [
    "# Lấy phần tử ảnh CAPTCHA\n",
    "image_captcha_element = browser.find_element(By.CSS_SELECTOR, \"#captcha-verify-image\")\n",
    "\n",
    "# Lấy URL của ảnh CAPTCHA\n",
    "captcha_src = image_captcha_element.get_attribute(\"src\")\n",
    "\n",
    "# Tải xuống ảnh CAPTCHA\n",
    "response = requests.get(captcha_src)\n",
    "image = Image.open(io.BytesIO(response.content))\n",
    "image.save(\"captcha_image.png\")\n",
    "\n"
   ]
  },
  {
   "cell_type": "code",
   "execution_count": 3,
   "metadata": {},
   "outputs": [],
   "source": [
    "import os\n",
    "#Bypass captcha\n",
    "\n",
    "image_captcha_element = browser.find_element(By.CSS_SELECTOR, \"#captcha-verify-image\")\n",
    "captcha_src = image_captcha_element.get_attribute(\"src\")\n",
    "folder_path = \"./captcha_images\"\n",
    "if not os.path.exists(folder_path):\n",
    "    os.makedirs(folder_path)\n",
    "response = requests.get(captcha_src)\n",
    "image = Image.open(io.BytesIO(response.content))\n",
    "image.save(os.path.join(folder_path, \"captcha_image.png\"))\n",
    "image_path = os.path.join(folder_path, \"captcha_image.png\")\n"
   ]
  },
  {
   "cell_type": "code",
   "execution_count": 6,
   "metadata": {},
   "outputs": [
    {
     "name": "stdout",
     "output_type": "stream",
     "text": [
      "Job created successfully with job_id: 1079213165\n"
     ]
    }
   ],
   "source": [
    "# Đọc ảnh CAPTCHA và mã hóa base64\n",
    "with open(image_path, \"rb\") as image_file:\n",
    "    image_base64 = base64.b64encode(image_file.read()).decode('utf-8')\n",
    "\n",
    "# Tạo yêu cầu POST để tạo job\n",
    "create_job_url = \"https://omocaptcha.com/api/createJob\"\n",
    "headers = {\n",
    "    \"Content-Type\": \"application/json\"\n",
    "}\n",
    "data = {\n",
    "    \"api_token\": \"apitoken8t6x9z5xxy6l8mysc0gqst6mutasthtpuw5q2i5nsy2yxmrnmjijmbl4rlnkg31722476177\",\n",
    "    \"data\": {\n",
    "        \"type_job_id\": \"22\",\n",
    "        \"image_base64\": image_base64,\n",
    "        \"width_view\": 340,\n",
    "        \"height_view\": 212\n",
    "    }\n",
    "}\n",
    "\n",
    "response = requests.post(create_job_url, headers=headers, json=data)\n",
    "result = response.json()\n",
    "\n",
    "if result['success']:\n",
    "    job_id = result['job_id']\n",
    "    print(f\"Job created successfully with job_id: {job_id}\")\n",
    "else:\n",
    "    print(\"Failed to create job\")"
   ]
  },
  {
   "cell_type": "code",
   "execution_count": 7,
   "metadata": {},
   "outputs": [
    {
     "name": "stdout",
     "output_type": "stream",
     "text": [
      "Coordinates received: 275|46|108|137\n"
     ]
    }
   ],
   "source": [
    "# Gửi yêu cầu POST để nhận kết quả\n",
    "get_result_url = \"https://omocaptcha.com/api/getJobResult\"\n",
    "data = {\n",
    "    \"api_token\": \"apitoken8t6x9z5xxy6l8mysc0gqst6mutasthtpuw5q2i5nsy2yxmrnmjijmbl4rlnkg31722476177\",\n",
    "    \"job_id\": job_id\n",
    "}\n",
    "\n",
    "\n",
    "time.sleep(10) \n",
    "\n",
    "response = requests.post(get_result_url, headers=headers, json=data)\n",
    "result = response.json()\n",
    "\n",
    "if result['success'] and result['status'] == 'success':\n",
    "    coordinates = result['result']\n",
    "    print(f\"Coordinates received: {coordinates}\")\n",
    "else:\n",
    "    print(\"Failed to get result\")"
   ]
  },
  {
   "cell_type": "code",
   "execution_count": 8,
   "metadata": {},
   "outputs": [
    {
     "name": "stdout",
     "output_type": "stream",
     "text": [
      "Coordinates: (275, 46), (108, 137)\n"
     ]
    }
   ],
   "source": [
    "from selenium.webdriver.common.action_chains import ActionChains\n",
    "\n",
    "image_captcha_element = browser.find_element(By.XPATH, '//*[@id=\"captcha-verify-image\"]')\n",
    "\n",
    "# Giải mã tọa độ từ kết quả nhận được\n",
    "coords = coordinates.split('|')\n",
    "x1, y1, x2, y2 = int(coords[0]), int(coords[1]), int(coords[2]), int(coords[3])\n",
    "print(f\"Coordinates: ({x1}, {y1}), ({x2}, {y2})\")\n",
    "\n",
    "# Chạy đoạn mã JavaScript để click vào tọa độ trên ảnh CAPTCHA\n",
    "simulate_click_script = f\"\"\"\n",
    "function simulateClick(element, offsetX, offsetY) {{\n",
    "    var rect = element.getBoundingClientRect();\n",
    "    var clientX = rect.left + offsetX;\n",
    "    var clientY = rect.top + offsetY;\n",
    "    var clickEvent = new MouseEvent('click', {{ bubbles: true, clientX: clientX, clientY: clientY }});\n",
    "    element.dispatchEvent(clickEvent);\n",
    "}}\n",
    "\n",
    "var imageCaptcha = document.querySelector(\"#captcha-verify-image\");\n",
    "simulateClick(imageCaptcha, {x1}, {y1});\n",
    "simulateClick(imageCaptcha, {x2}, {y2});\n",
    "\"\"\"\n",
    "browser.execute_script(simulate_click_script)\n",
    "\n",
    "time.sleep(5)\n"
   ]
  },
  {
   "cell_type": "code",
   "execution_count": 10,
   "metadata": {},
   "outputs": [
    {
     "name": "stdout",
     "output_type": "stream",
     "text": [
      "Clicked submit button successfully\n"
     ]
    }
   ],
   "source": [
    "\n",
    "# Click nút submit CAPTCHA \n",
    "#//*[@id=\"captcha_container\"]/div/div[3]/div[2]\n",
    "# #captcha_container > div > div.captcha_verify_action.sc-jAaTju.jvNEQE > div.verify-captcha-submit-button.SubmitButton___StyledDiv-sc-1wo8ev0-0.gjDQEr\n",
    "# submit_button_script = \"\"\"\n",
    "# document.querySelector('#captcha_container > div > div.captcha_verify_action.sc-kkGfuU.ccWApg > div.verify-captcha-submit-button.SubmitButton___StyledDiv-sc-1wo8ev0-0.gjDQEr').click();\n",
    "# \"\"\"\n",
    "# browser.execute_script(submit_button_script)\n",
    "\n",
    "# Click nút submit CAPTCHA\n",
    "submit_button_script = \"\"\"\n",
    "try {\n",
    "    var submitButton = document.evaluate('//*[@id=\"captcha_container\"]/div/div[3]/div[2]', document, null, XPathResult.FIRST_ORDERED_NODE_TYPE, null).singleNodeValue;\n",
    "    submitButton.click();\n",
    "    return \"Clicked submit button successfully\";\n",
    "} catch (error) {\n",
    "    return `Error clicking submit button: ${error}`;\n",
    "}\n",
    "\"\"\"\n",
    "try:\n",
    "    result = browser.execute_script(submit_button_script)\n",
    "    print(result)\n",
    "except Exception as e:\n",
    "    print(f\"Error executing script for clicking submit button: {e}\")"
   ]
  },
  {
   "cell_type": "code",
   "execution_count": 33,
   "metadata": {},
   "outputs": [],
   "source": [
    "from selenium.webdriver import ActionChains\n",
    "\n",
    "\n",
    "\n",
    "# actions = ActionChains(browser)\n",
    "\n",
    "# slider_container = browser.find_element(By.XPATH, value='//*[@id=\"captcha_container\"]/div/div[3]/div[1]')\n",
    "# slider = browser.find_element(By.XPATH, value='//*[@id=\"secsdk-captcha-drag-wrapper\"]/div[2]')\n",
    "\n",
    "# # Kích thước của thanh trượt\n",
    "# slider_width = slider_container.size['width']\n",
    "\n",
    "# # Kéo thanh trượt đến vị trí cuối cùng và thả\n",
    "# actions.click_and_hold(slider).move_by_offset(slider_width - 10, 0).release().perform()\n",
    "# time.sleep(3)\n",
    "\n",
    "\n"
   ]
  },
  {
   "cell_type": "code",
   "execution_count": 34,
   "metadata": {},
   "outputs": [],
   "source": [
    "post = \"https://www.tiktok.com/@_embegem_/video/7366678218008579345\"\n",
    "browser.get(post)"
   ]
  },
  {
   "cell_type": "code",
   "execution_count": 35,
   "metadata": {},
   "outputs": [],
   "source": [
    "import time\n",
    "from selenium import webdriver\n",
    "from selenium.webdriver.common.by import By\n",
    "\n",
    "tim_button = browser.find_element(By.XPATH, '//*[@id=\"main-content-video_detail\"]/div/div[2]/div[1]/div[1]/div[1]/div[3]/div[2]/button[1]')\n",
    "browser.execute_script(\"window.scrollTo(0, 0);\")\n",
    "time.sleep(10)\n",
    "tim_button.click()\n",
    "time.sleep(5)\n",
    "\n",
    "# tim_button = browser.find_element(By.XPATH, '//*[@id=\"main-content-video_detail\"]/div/div[2]/div[1]/div[1]/div[1]/div[3]/div[2]/button[1]')\n",
    "# if not tim_button.get_attribute('aria-pressed') == 'true':\n",
    "#     tim_button.click()\n"
   ]
  },
  {
   "cell_type": "code",
   "execution_count": 13,
   "metadata": {},
   "outputs": [],
   "source": [
    "import time\n",
    "from selenium import webdriver\n",
    "from selenium.webdriver.common.by import By\n",
    "\n",
    "cmt_button = browser.find_element(By.XPATH, '//*[@id=\"main-content-video_detail\"]/div/div[2]/div/div[1]/div[1]/div[3]/div[2]/button[2]')\n",
    "#cmt_button.click()\n",
    "time.sleep(5)\n",
    "\n",
    "# Cuộn xuống cuối trang\n",
    "browser.execute_script(\"window.scrollTo(0, document.body.scrollHeight);\")\n",
    "time.sleep(10)"
   ]
  },
  {
   "cell_type": "code",
   "execution_count": 36,
   "metadata": {},
   "outputs": [],
   "source": [
    "from selenium.webdriver.common.by import By\n",
    "from selenium.webdriver.support import expected_conditions as EC\n",
    "from selenium.webdriver.common.by import By\n",
    "\n",
    "comment_text = browser.find_element(By.XPATH, '//div[@class=\"notranslate public-DraftEditor-content\" and @contenteditable=\"true\"]')\n",
    "#browser.execute_script(\"window.scrollTo(0, document.body.scrollHeight);\")\n",
    "browser.execute_script(\"arguments[0].scrollIntoView(false);\", comment_text)\n",
    "time.sleep(10)\n",
    "\n",
    "#nội dung comment\n",
    "comment_text.send_keys(\"hello\")\n",
    "\n",
    "#post\n",
    "post_button = browser.find_element(By.XPATH, '//*[@id=\"main-content-video_detail\"]/div/div[2]/div/div[3]/div[1]/div/div/div[2]')\n",
    "post_button.click()"
   ]
  },
  {
   "cell_type": "code",
   "execution_count": 37,
   "metadata": {},
   "outputs": [],
   "source": [
    "import time\n",
    "from selenium.webdriver.common.by import By\n",
    "\n",
    "luu_button = browser.find_element(By.XPATH, '//*[@id=\"main-content-video_detail\"]/div/div[2]/div[1]/div[1]/div[1]/div[3]/div[2]/button[3]')\n",
    "#browser.execute_script(\"arguments[0].scrollIntoView(true);\", luu_button)\n",
    "browser.execute_script(\"window.scrollTo(0, 0);\")\n",
    "time.sleep(10)\n",
    "luu_button.click()"
   ]
  },
  {
   "cell_type": "code",
   "execution_count": 38,
   "metadata": {},
   "outputs": [],
   "source": [
    "from selenium.webdriver.support.ui import WebDriverWait\n",
    "from selenium.webdriver.support import expected_conditions as EC\n",
    "from selenium.webdriver.common.action_chains import ActionChains\n",
    "\n",
    "wait = WebDriverWait(browser, 10)\n",
    "share_button = wait.until(EC.presence_of_element_located((By.XPATH, '//*[@id=\"main-content-video_detail\"]/div/div[2]/div/div[1]/div[1]/div[3]/div[2]/button[4]')))\n",
    "\n",
    "actions = ActionChains(browser)\n",
    "actions.move_to_element(share_button).perform()\n",
    "time.sleep(5) \n",
    "\n",
    "repost_option = wait.until(EC.element_to_be_clickable((By.XPATH, '//span[contains(text(),\"Repost\")]')))\n",
    "\n",
    "repost_option.click()\n",
    "\n",
    "\n"
   ]
  },
  {
   "cell_type": "code",
   "execution_count": 46,
   "metadata": {},
   "outputs": [],
   "source": [
    "from selenium.webdriver.support.ui import WebDriverWait\n",
    "from selenium.webdriver.support import expected_conditions as EC\n",
    "from selenium.webdriver.common.action_chains import ActionChains\n",
    "\n",
    "wait = WebDriverWait(browser, 10)\n",
    "report_button = wait.until(EC.presence_of_element_located((By.XPATH, '//*[@id=\"main-content-video_detail\"]/div/div[2]/div[1]/div[1]/div[1]/div[4]/div[2]/div[2]/div[7]')))\n",
    "\n",
    "actions = ActionChains(browser)\n",
    "actions.move_to_element(report_button).perform()\n",
    "time.sleep(10) \n",
    "\n",
    "\n",
    "#report_option = wait.until(EC.element_to_be_clickable((By.XPATH, '//*[@id=\"main-content-video_detail\"]/div/div[2]/div/div[1]/div[1]/div[4]/div[2]/div[2]/div[7]/div/ul/li[1]')))\n",
    "#//*[@id=\"main-content-video_detail\"]/div/div[2]/div/div[1]/div[1]/div[4]/div[2]/div[2]/div[7]/div/ul/li[1]"
   ]
  },
  {
   "cell_type": "code",
   "execution_count": 47,
   "metadata": {},
   "outputs": [],
   "source": [
    "report_button = browser.find_element(By.XPATH, '//*[@id=\"main-content-video_detail\"]/div/div[2]/div/div[1]/div[1]/div[4]/div[2]/div[2]/div[7]/div/ul/li[1]')\n",
    "\n",
    "report_button.click()"
   ]
  },
  {
   "cell_type": "code",
   "execution_count": 48,
   "metadata": {},
   "outputs": [],
   "source": [
    "rs = browser.find_element(By.XPATH, '//*[@id=\"tux-portal-container\"]/div/div[2]/div/div/div[2]/div/div/section/form/div[2]/label[1]')\n",
    "\n",
    "rs.click()\n",
    "time.sleep(5)\n",
    "\n",
    "rs_ = browser.find_element(By.XPATH, '//*[@id=\"tux-portal-container\"]/div/div[2]/div/div/div[2]/div/div/section/form/div[2]/label[1]')\n",
    "rs_.click()\n",
    "\n",
    "#SUBMIT\n",
    "# submit = browser.find_element(By.XPATH, '//*[@id=\"tux-portal-container\"]/div/div[2]/div/div/div[2]/div/div/section/form/div[2]/div[3]/button')\n",
    "# submit.click()"
   ]
  }
 ],
 "metadata": {
  "kernelspec": {
   "display_name": "Python 3",
   "language": "python",
   "name": "python3"
  },
  "language_info": {
   "codemirror_mode": {
    "name": "ipython",
    "version": 3
   },
   "file_extension": ".py",
   "mimetype": "text/x-python",
   "name": "python",
   "nbconvert_exporter": "python",
   "pygments_lexer": "ipython3",
   "version": "3.10.11"
  }
 },
 "nbformat": 4,
 "nbformat_minor": 2
}
